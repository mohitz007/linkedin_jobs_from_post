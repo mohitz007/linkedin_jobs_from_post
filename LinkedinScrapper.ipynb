{
  "nbformat": 4,
  "nbformat_minor": 0,
  "metadata": {
    "colab": {
      "name": "LinkedinScrapper.ipynb",
      "provenance": [],
      "collapsed_sections": []
    },
    "kernelspec": {
      "name": "python3",
      "display_name": "Python 3"
    },
    "language_info": {
      "name": "python"
    }
  },
  "cells": [
    {
      "cell_type": "markdown",
      "metadata": {
        "id": "gay2fN2Y_nwD"
      },
      "source": [
        "# Importing Data\n",
        "* Getting a csv file "
      ]
    },
    {
      "cell_type": "code",
      "metadata": {
        "colab": {
          "base_uri": "https://localhost:8080/",
          "height": 202
        },
        "id": "KBSM7GxzteXN",
        "outputId": "8428796b-82ba-44ba-8965-3dbbbe7fa5c0"
      },
      "source": [
        "import pandas as pd\n",
        "df_test=pd.read_csv(\"/content/FullDataSet.csv\")\n",
        "df_test.head()"
      ],
      "execution_count": 462,
      "outputs": [
        {
          "output_type": "execute_result",
          "data": {
            "text/html": [
              "<div>\n",
              "<style scoped>\n",
              "    .dataframe tbody tr th:only-of-type {\n",
              "        vertical-align: middle;\n",
              "    }\n",
              "\n",
              "    .dataframe tbody tr th {\n",
              "        vertical-align: top;\n",
              "    }\n",
              "\n",
              "    .dataframe thead th {\n",
              "        text-align: right;\n",
              "    }\n",
              "</style>\n",
              "<table border=\"1\" class=\"dataframe\">\n",
              "  <thead>\n",
              "    <tr style=\"text-align: right;\">\n",
              "      <th></th>\n",
              "      <th>Unnamed: 0</th>\n",
              "      <th>Text</th>\n",
              "      <th>Target</th>\n",
              "    </tr>\n",
              "  </thead>\n",
              "  <tbody>\n",
              "    <tr>\n",
              "      <th>0</th>\n",
              "      <td>0</td>\n",
              "      <td>Guilty.\\non.\\nall.\\ncounts.\\n\\nToday was a his...</td>\n",
              "      <td>0</td>\n",
              "    </tr>\n",
              "    <tr>\n",
              "      <th>1</th>\n",
              "      <td>1</td>\n",
              "      <td>Proud of our students success!\\nIn next few da...</td>\n",
              "      <td>0</td>\n",
              "    </tr>\n",
              "    <tr>\n",
              "      <th>2</th>\n",
              "      <td>2</td>\n",
              "      <td>Creativity is inventing, experimenting, growin...</td>\n",
              "      <td>0</td>\n",
              "    </tr>\n",
              "    <tr>\n",
              "      <th>3</th>\n",
              "      <td>3</td>\n",
              "      <td>1st use and 2nd use B2C TV leads from the expe...</td>\n",
              "      <td>0</td>\n",
              "    </tr>\n",
              "    <tr>\n",
              "      <th>4</th>\n",
              "      <td>4</td>\n",
              "      <td>If you\\xe2\\x80\\x99re determined to get into th...</td>\n",
              "      <td>0</td>\n",
              "    </tr>\n",
              "  </tbody>\n",
              "</table>\n",
              "</div>"
            ],
            "text/plain": [
              "   Unnamed: 0                                               Text  Target\n",
              "0           0  Guilty.\\non.\\nall.\\ncounts.\\n\\nToday was a his...       0\n",
              "1           1  Proud of our students success!\\nIn next few da...       0\n",
              "2           2  Creativity is inventing, experimenting, growin...       0\n",
              "3           3  1st use and 2nd use B2C TV leads from the expe...       0\n",
              "4           4  If you\\xe2\\x80\\x99re determined to get into th...       0"
            ]
          },
          "metadata": {
            "tags": []
          },
          "execution_count": 462
        }
      ]
    },
    {
      "cell_type": "code",
      "metadata": {
        "colab": {
          "base_uri": "https://localhost:8080/",
          "height": 202
        },
        "id": "3hyhRmBS1yCl",
        "outputId": "32536e1f-b9ce-4334-9f83-99c7d3752999"
      },
      "source": [
        "df_test.drop([\"Unnamed: 0\"],axis=1,inplace=True)\n",
        "df_test.head()"
      ],
      "execution_count": 463,
      "outputs": [
        {
          "output_type": "execute_result",
          "data": {
            "text/html": [
              "<div>\n",
              "<style scoped>\n",
              "    .dataframe tbody tr th:only-of-type {\n",
              "        vertical-align: middle;\n",
              "    }\n",
              "\n",
              "    .dataframe tbody tr th {\n",
              "        vertical-align: top;\n",
              "    }\n",
              "\n",
              "    .dataframe thead th {\n",
              "        text-align: right;\n",
              "    }\n",
              "</style>\n",
              "<table border=\"1\" class=\"dataframe\">\n",
              "  <thead>\n",
              "    <tr style=\"text-align: right;\">\n",
              "      <th></th>\n",
              "      <th>Text</th>\n",
              "      <th>Target</th>\n",
              "    </tr>\n",
              "  </thead>\n",
              "  <tbody>\n",
              "    <tr>\n",
              "      <th>0</th>\n",
              "      <td>Guilty.\\non.\\nall.\\ncounts.\\n\\nToday was a his...</td>\n",
              "      <td>0</td>\n",
              "    </tr>\n",
              "    <tr>\n",
              "      <th>1</th>\n",
              "      <td>Proud of our students success!\\nIn next few da...</td>\n",
              "      <td>0</td>\n",
              "    </tr>\n",
              "    <tr>\n",
              "      <th>2</th>\n",
              "      <td>Creativity is inventing, experimenting, growin...</td>\n",
              "      <td>0</td>\n",
              "    </tr>\n",
              "    <tr>\n",
              "      <th>3</th>\n",
              "      <td>1st use and 2nd use B2C TV leads from the expe...</td>\n",
              "      <td>0</td>\n",
              "    </tr>\n",
              "    <tr>\n",
              "      <th>4</th>\n",
              "      <td>If you\\xe2\\x80\\x99re determined to get into th...</td>\n",
              "      <td>0</td>\n",
              "    </tr>\n",
              "  </tbody>\n",
              "</table>\n",
              "</div>"
            ],
            "text/plain": [
              "                                                Text  Target\n",
              "0  Guilty.\\non.\\nall.\\ncounts.\\n\\nToday was a his...       0\n",
              "1  Proud of our students success!\\nIn next few da...       0\n",
              "2  Creativity is inventing, experimenting, growin...       0\n",
              "3  1st use and 2nd use B2C TV leads from the expe...       0\n",
              "4  If you\\xe2\\x80\\x99re determined to get into th...       0"
            ]
          },
          "metadata": {
            "tags": []
          },
          "execution_count": 463
        }
      ]
    },
    {
      "cell_type": "markdown",
      "metadata": {
        "id": "iMDIfDC5jMlU"
      },
      "source": [
        "Importing Necessary Libraries"
      ]
    },
    {
      "cell_type": "code",
      "metadata": {
        "id": "Ayc3PIhZ12dD"
      },
      "source": [
        "from nltk.tokenize import RegexpTokenizer, word_tokenize\n",
        "from nltk.stem import PorterStemmer\n",
        "from nltk.stem import WordNetLemmatizer\n",
        "from nltk.corpus import stopwords\n",
        "import numpy as np\n",
        "import pandas as pd\n",
        "from sklearn.preprocessing import LabelEncoder\n",
        "from sklearn.feature_extraction.text import CountVectorizer\n",
        "from sklearn.feature_extraction.text import TfidfVectorizer\n",
        "from sklearn.model_selection import train_test_split\n",
        "from sklearn.naive_bayes import MultinomialNB\n",
        "from sklearn.naive_bayes import GaussianNB\n",
        "from sklearn.naive_bayes import BernoulliNB"
      ],
      "execution_count": 464,
      "outputs": []
    },
    {
      "cell_type": "code",
      "metadata": {
        "id": "C2IdxtF7B_-U"
      },
      "source": [
        "data=df_test.to_numpy()"
      ],
      "execution_count": 465,
      "outputs": []
    },
    {
      "cell_type": "code",
      "metadata": {
        "colab": {
          "base_uri": "https://localhost:8080/"
        },
        "id": "XU6M7oxmCL9H",
        "outputId": "b4f32e0d-8de8-4a82-dc79-a651a326d304"
      },
      "source": [
        "data[:2]"
      ],
      "execution_count": 466,
      "outputs": [
        {
          "output_type": "execute_result",
          "data": {
            "text/plain": [
              "array([['Guilty.\\\\non.\\\\nall.\\\\ncounts.\\\\n\\\\nToday was a historic day in America\\\\xe2\\\\x80\\\\x94and the world. Justice was served because\\\\n\\\\nTomorrow we continue.\\\\n\\\\n\\\\xe2\\\\x9c\\\\x8a\\\\xf0\\\\x9f\\\\x8f\\\\xbb\\\\xe2\\\\x9c\\\\x8a\\\\xf0\\\\x9f\\\\x8f\\\\xbc\\\\xe2\\\\x9c\\\\x8a\\\\xf0\\\\x9f\\\\x8f\\\\xbd\\\\xe2\\\\x9c\\\\x8a\\\\xf0\\\\x9f\\\\x8f\\\\xbe\\\\xe2\\\\x9c\\\\x8a\\\\xf0\\\\x9f\\\\x8f\\\\xbf ',\n",
              "        0],\n",
              "       ['Proud of our students success!\\\\nIn next few days we will be posting stories of our students covering their individual journey, stay tuned! ',\n",
              "        0]], dtype=object)"
            ]
          },
          "metadata": {
            "tags": []
          },
          "execution_count": 466
        }
      ]
    },
    {
      "cell_type": "code",
      "metadata": {
        "id": "qtOfhyxZCN8q"
      },
      "source": [
        "X=data[:,0]\n",
        "y=data[:,1]\n",
        "y=y.astype('int')"
      ],
      "execution_count": 467,
      "outputs": []
    },
    {
      "cell_type": "code",
      "metadata": {
        "colab": {
          "base_uri": "https://localhost:8080/"
        },
        "id": "q1bIcEcWCWjX",
        "outputId": "e7521346-fa2f-47b8-b12b-9cc3479a11ad"
      },
      "source": [
        "type(X)"
      ],
      "execution_count": 468,
      "outputs": [
        {
          "output_type": "execute_result",
          "data": {
            "text/plain": [
              "numpy.ndarray"
            ]
          },
          "metadata": {
            "tags": []
          },
          "execution_count": 468
        }
      ]
    },
    {
      "cell_type": "markdown",
      "metadata": {
        "id": "SaJZ9GlOUA8U"
      },
      "source": [
        "# NLP pipeline\n",
        "* Tokenization - Breaking down of doc into sentences and sentences into words\n",
        "* Stopword Removal - Removing insignificant words to bring down the vocabulary count\n",
        "* Lemmatization/Stemming - Concentrating words of similar meaning to its root word\n"
      ]
    },
    {
      "cell_type": "code",
      "metadata": {
        "colab": {
          "base_uri": "https://localhost:8080/"
        },
        "id": "yCmisXxRCYLt",
        "outputId": "171242db-8d65-4e67-8e7e-8119873612f6"
      },
      "source": [
        "import nltk\n",
        "nltk.download('stopwords')\n",
        "tokenizer = RegexpTokenizer('[a-zA-Z@.]+')\n",
        "sw = set(stopwords.words('english'))\n",
        "#ps = PorterStemmer()\n",
        "ps=WordNetLemmatizer()"
      ],
      "execution_count": 469,
      "outputs": [
        {
          "output_type": "stream",
          "text": [
            "[nltk_data] Downloading package stopwords to /root/nltk_data...\n",
            "[nltk_data]   Package stopwords is already up-to-date!\n"
          ],
          "name": "stdout"
        }
      ]
    },
    {
      "cell_type": "code",
      "metadata": {
        "colab": {
          "base_uri": "https://localhost:8080/"
        },
        "id": "38CrWVZ8Nj5A",
        "outputId": "81182bc6-6683-4af4-f319-523ade7540ab"
      },
      "source": [
        "tokenizer.tokenize(\"What an amazing day! Let's go out for a walk\")"
      ],
      "execution_count": 470,
      "outputs": [
        {
          "output_type": "execute_result",
          "data": {
            "text/plain": [
              "['What', 'an', 'amazing', 'day', 'Let', 's', 'go', 'out', 'for', 'a', 'walk']"
            ]
          },
          "metadata": {
            "tags": []
          },
          "execution_count": 470
        }
      ]
    },
    {
      "cell_type": "markdown",
      "metadata": {
        "id": "EkhfSV5oUmWp"
      },
      "source": [
        "# Data Pre-Processing"
      ]
    },
    {
      "cell_type": "code",
      "metadata": {
        "id": "qMP1BtxlClIX"
      },
      "source": [
        "def getCleanSent(data):\n",
        "  data=data.lower()\n",
        "  token=tokenizer.tokenize(data)\n",
        "  clean_data_1=[w for w in token if w not in sw]   #Removing stop words(Removes stopwords from our t)\n",
        "  clean_data_2=[ps.lemmatize(token) for token in clean_data_1] #Using stemming to condense tenses\n",
        "  clean_data=' '.join(clean_data_2)\n",
        "  return clean_data"
      ],
      "execution_count": 471,
      "outputs": []
    },
    {
      "cell_type": "code",
      "metadata": {
        "id": "jsa5gLRrDeoi"
      },
      "source": [
        "def getCleanDoc(doc):\n",
        "  li=[]\n",
        "  for d in doc:\n",
        "    li.append(getCleanSent(d))\n",
        "  return li"
      ],
      "execution_count": 472,
      "outputs": []
    },
    {
      "cell_type": "code",
      "metadata": {
        "colab": {
          "base_uri": "https://localhost:8080/"
        },
        "id": "WOou7JRfD5k3",
        "outputId": "18d750f3-fc58-43c4-b20a-c40b9254aecc"
      },
      "source": [
        "nltk.download('wordnet')\n",
        "cleaned_data=getCleanDoc(X)\n",
        "len(cleaned_data[0])"
      ],
      "execution_count": 473,
      "outputs": [
        {
          "output_type": "stream",
          "text": [
            "[nltk_data] Downloading package wordnet to /root/nltk_data...\n",
            "[nltk_data]   Package wordnet is already up-to-date!\n"
          ],
          "name": "stdout"
        },
        {
          "output_type": "execute_result",
          "data": {
            "text/plain": [
              "232"
            ]
          },
          "metadata": {
            "tags": []
          },
          "execution_count": 473
        }
      ]
    },
    {
      "cell_type": "code",
      "metadata": {
        "id": "eGjhpVXtESuK"
      },
      "source": [
        "#cv=TfidfVectorizer()\n",
        "cv=CountVectorizer(stop_words='english')\n",
        "vocab=cv.fit_transform(cleaned_data)"
      ],
      "execution_count": 474,
      "outputs": []
    },
    {
      "cell_type": "code",
      "metadata": {
        "colab": {
          "base_uri": "https://localhost:8080/"
        },
        "id": "X7LeoLGRE2MT",
        "outputId": "45ea705f-0c67-446f-bbe6-f1a2e4a91275"
      },
      "source": [
        "vocab.shape"
      ],
      "execution_count": 475,
      "outputs": [
        {
          "output_type": "execute_result",
          "data": {
            "text/plain": [
              "(614, 4460)"
            ]
          },
          "metadata": {
            "tags": []
          },
          "execution_count": 475
        }
      ]
    },
    {
      "cell_type": "code",
      "metadata": {
        "colab": {
          "base_uri": "https://localhost:8080/"
        },
        "id": "gCW35pRCE3I5",
        "outputId": "cfd1423b-2d5d-4952-e1dc-d907334230ed"
      },
      "source": [
        "X=vocab.todense()\n",
        "X=X.astype('int')\n",
        "type(X)"
      ],
      "execution_count": 476,
      "outputs": [
        {
          "output_type": "execute_result",
          "data": {
            "text/plain": [
              "numpy.matrix"
            ]
          },
          "metadata": {
            "tags": []
          },
          "execution_count": 476
        }
      ]
    },
    {
      "cell_type": "code",
      "metadata": {
        "id": "ukxCeaVxFJrl"
      },
      "source": [
        "models={\"MultinomialNB\":MultinomialNB(),\n",
        "        \"GaussianNB\":GaussianNB(),\n",
        "        \"BernoulliNB\":BernoulliNB()}\n",
        "X_train,X_test,y_train,y_test=train_test_split(X,y,test_size=0.2,random_state=42)"
      ],
      "execution_count": 477,
      "outputs": []
    },
    {
      "cell_type": "markdown",
      "metadata": {
        "id": "y2RqBH1mVFaD"
      },
      "source": [
        "# Model Selection and Evaluation"
      ]
    },
    {
      "cell_type": "markdown",
      "metadata": {
        "id": "hKRy0HhIxj5h"
      },
      "source": [
        "We use Recall-score as a metric to judge our model\n",
        "* Job detection has a lesser number of occurences as comapred to other posts due to which there is an imbalance in our dataset\n",
        "* Accuracy won't be an ideal metric as it is bound to be high\n",
        "* Recall score would help us in knowing how precisely our model is predicting a class"
      ]
    },
    {
      "cell_type": "code",
      "metadata": {
        "id": "fYr7mNIDxPKe"
      },
      "source": [
        "from sklearn.metrics import recall_score"
      ],
      "execution_count": 478,
      "outputs": []
    },
    {
      "cell_type": "code",
      "metadata": {
        "colab": {
          "base_uri": "https://localhost:8080/"
        },
        "id": "XtiiyQr7CNpu",
        "outputId": "0cda9ddb-5971-4181-e01a-d5bfa572a875"
      },
      "source": [
        "def ModelExperimentAndEvaluation(models,X_train,X_test,y_train,y_test):\n",
        "  model_scores={}\n",
        "  np.random.seed(42)\n",
        "  for name,model in models.items():\n",
        "    model.fit(X_train,y_train)\n",
        "    y_preds=model.predict(X_test)\n",
        "    model_scores[name]=recall_score(y_test,y_preds)\n",
        "  return model_scores\n",
        "model_scores=ModelExperimentAndEvaluation(models=models,X_train=X_train,X_test=X_test,y_train=y_train,y_test=y_test)\n",
        "model_scores\n"
      ],
      "execution_count": 479,
      "outputs": [
        {
          "output_type": "execute_result",
          "data": {
            "text/plain": [
              "{'BernoulliNB': 0.1111111111111111,\n",
              " 'GaussianNB': 0.6111111111111112,\n",
              " 'MultinomialNB': 0.7777777777777778}"
            ]
          },
          "metadata": {
            "tags": []
          },
          "execution_count": 479
        }
      ]
    },
    {
      "cell_type": "code",
      "metadata": {
        "colab": {
          "base_uri": "https://localhost:8080/",
          "height": 380
        },
        "id": "DRiHrdtoEXBt",
        "outputId": "5758ed1c-f7b1-4283-e805-dc811fce6001"
      },
      "source": [
        "model_visual=pd.DataFrame(model_scores,index=[\"Recall Score\"])\n",
        "model_visual.T.plot.bar();"
      ],
      "execution_count": 480,
      "outputs": [
        {
          "output_type": "display_data",
          "data": {
            "image/png": "[encoded data removed]",
            "text/plain": [
              "<Figure size 432x288 with 1 Axes>"
            ]
          },
          "metadata": {
            "tags": []
          }
        }
      ]
    },
    {
      "cell_type": "code",
      "metadata": {
        "colab": {
          "base_uri": "https://localhost:8080/"
        },
        "id": "Wmp9m_dfFqvi",
        "outputId": "7bcc7883-2493-44c6-c83b-84ecd902a04b"
      },
      "source": [
        "model=MultinomialNB()\n",
        "model.fit(X_train,y_train)\n",
        "val=recall_score(y_test,y_preds)\n",
        "format_val = \"{:.2f}\".format(val)\n",
        "print(format_val)"
      ],
      "execution_count": 481,
      "outputs": [
        {
          "output_type": "stream",
          "text": [
            "0.78\n"
          ],
          "name": "stdout"
        }
      ]
    },
    {
      "cell_type": "code",
      "metadata": {
        "id": "nw0xQWa1PDV8",
        "colab": {
          "base_uri": "https://localhost:8080/"
        },
        "outputId": "9178f581-a6ed-42ee-ef4b-1eb9943395a5"
      },
      "source": [
        "from sklearn.model_selection import cross_val_score\n",
        "cv_acc = cross_val_score(model,X,y,cv=5,scoring=\"accuracy\")\n",
        "avg_acc=0\n",
        "for item in cv_acc:\n",
        "  avg_acc+=item\n",
        "print(f\"Average accuracy of the model is:{avg_acc/5}\")\n",
        "y_preds=model.predict(X_test)"
      ],
      "execution_count": 482,
      "outputs": [
        {
          "output_type": "stream",
          "text": [
            "Average accuracy of the model is:0.832267093162735\n"
          ],
          "name": "stdout"
        }
      ]
    },
    {
      "cell_type": "code",
      "metadata": {
        "colab": {
          "base_uri": "https://localhost:8080/",
          "height": 352
        },
        "id": "zeXoNwtGThjc",
        "outputId": "7f708ca9-20d5-4656-c2df-107bfda22f8f"
      },
      "source": [
        "import seaborn as sns\n",
        "import matplotlib.pyplot as plt\n",
        "from sklearn.metrics import confusion_matrix\n",
        "from sklearn.metrics import classification_report\n",
        "cm=confusion_matrix(y_test,y_preds)\n",
        "sns.set(font_scale=1.5)\n",
        "fig,ax=plt.subplots(figsize=(7,5))\n",
        "ax=sns.heatmap(cm,annot=True,fmt='g')\n",
        "plt.xlabel(\"True Labels\")\n",
        "plt.ylabel(\"Predicted Labels\");"
      ],
      "execution_count": 483,
      "outputs": [
        {
          "output_type": "display_data",
          "data": {
            "image/png": "[encoded data removed]",
            "text/plain": [
              "<Figure size 504x360 with 2 Axes>"
            ]
          },
          "metadata": {
            "tags": []
          }
        }
      ]
    },
    {
      "cell_type": "code",
      "metadata": {
        "colab": {
          "base_uri": "https://localhost:8080/"
        },
        "id": "eEC6caNSYCUc",
        "outputId": "b793381f-21c8-4b4d-fb77-277ddf9fe442"
      },
      "source": [
        "print(classification_report(y_test,y_preds));"
      ],
      "execution_count": 484,
      "outputs": [
        {
          "output_type": "stream",
          "text": [
            "              precision    recall  f1-score   support\n",
            "\n",
            "           0       0.96      0.84      0.89       105\n",
            "           1       0.45      0.78      0.57        18\n",
            "\n",
            "    accuracy                           0.83       123\n",
            "   macro avg       0.70      0.81      0.73       123\n",
            "weighted avg       0.88      0.83      0.85       123\n",
            "\n"
          ],
          "name": "stdout"
        }
      ]
    },
    {
      "cell_type": "markdown",
      "metadata": {
        "id": "J6-a9UO8Wvfx"
      },
      "source": [
        "# Custom Predictions"
      ]
    },
    {
      "cell_type": "code",
      "metadata": {
        "colab": {
          "base_uri": "https://localhost:8080/"
        },
        "id": "IzeeEptMsuC4",
        "outputId": "346134f4-43f9-4610-abaf-cb5794ed8c94"
      },
      "source": [
        "from sklearn.metrics import roc_curve,roc_auc_score\n",
        "false_positive_rate, true_positive_rate, threshold1 = roc_curve(y_test, y_preds)\n",
        "print('roc_auc_score for GaussianNB: ', roc_auc_score(y_test, y_preds))"
      ],
      "execution_count": 485,
      "outputs": [
        {
          "output_type": "stream",
          "text": [
            "roc_auc_score for GaussianNB:  0.807936507936508\n"
          ],
          "name": "stdout"
        }
      ]
    },
    {
      "cell_type": "code",
      "metadata": {
        "id": "RtUm_K4gRCVr"
      },
      "source": [
        "new_text=[\"FROM YOUTUBE COMMENT SECTION\\xf0\\x9f\\x92\\xaf\\n\\nHOW MUCH DO YOU AGREE WITH IT? \\xf0\\x9f\\x99\\x82\\n\\nCHILDHOOD AT STAKE \\xf0\\x9f\\x91\\x80\\n\\nThis Seriousness Is Good ?\",\n",
        "\"#MicrosoftAzure\\nThank you\\xf0\\x9f\\x91\\x8d for this certification..\",\n",
        "\"I'm delighted to share that I have been selected for the Intuit mentorship program- Intuit Nurture and Augment 2021.\\n\\nI am looking forward to augmenting my skill-set and growing to be a confident technologist in the future. \",\n",
        "\"I am #learning #python and you\",\n",
        "\"Job applicants drop your cv in this link. We are looking out for candidates with finance background\",\n",
        "\"The SAU community has a history of speaking out against racism and other social injustices. We remain committed to providing a safe place for our students to express themselves.\\n\\nOur greatest hope is that our University, our country and the entire world can strive to be better, not just today, but every day.\\n\\nIt is our collective goal that the entire SAU community, nation and world will learn from these incidents and ultimately our students, will continue to lead the way in bridging the chasms that exist. \\xf0\\x9f\\x90\\xa6\\xf0\\x9f\\x92\\x99\\xe2\\x9c\\x8a\\xf0\\x9f\\x8f\\xbe\",\n",
        "\"Let's commence the battle of chess, crushing each other's mind, to pronounce the CHECKMATE proudly!\\n\\n\\n\\n\\n+44 20 3287 8700.\",\n",
        "\"#PHARMA SALES\\n#hiring #pharmaceutical #medical representative\\n\\nJOB LOCATION-: BIHAR (ANY AREA)\",\n",
        "\"We are looking for interns for web development role\",\n",
        "\"I'm hiring web development full time interns for a period of 3 months. If you know anyone dm!\"]\n",
        "def prepareText(text):\n",
        "  d = getCleanDoc(text)\n",
        "  return cv.transform(d).toarray()\n",
        "message = prepareText(new_text)"
      ],
      "execution_count": 486,
      "outputs": []
    },
    {
      "cell_type": "code",
      "metadata": {
        "colab": {
          "base_uri": "https://localhost:8080/"
        },
        "id": "Lreoe26USd4h",
        "outputId": "ed940014-d577-443a-daee-a2e37c1e121e"
      },
      "source": [
        "model.predict(message)"
      ],
      "execution_count": 487,
      "outputs": [
        {
          "output_type": "execute_result",
          "data": {
            "text/plain": [
              "array([0, 0, 1, 0, 1, 0, 0, 1, 1, 1])"
            ]
          },
          "metadata": {
            "tags": []
          },
          "execution_count": 487
        }
      ]
    },
    {
      "cell_type": "markdown",
      "metadata": {
        "id": "fhV9c8XY1P6F"
      },
      "source": [
        "Follow Up:\n",
        "* The model could be further improved by advanced NLP techniques like entity extraction\n",
        "* Recall score and confusion matrix can be improved upon by taking in more job posts in particular so that our datatset gets balanced."
      ]
    },
    {
      "cell_type": "code",
      "metadata": {
        "id": "-qzklv7-lwWO"
      },
      "source": [
        ""
      ],
      "execution_count": 487,
      "outputs": []
    }
  ]
}